{
 "cells": [
  {
   "cell_type": "code",
   "execution_count": null,
   "id": "88c0650d-455e-4aac-a8d5-a10e13eab77e",
   "metadata": {},
   "outputs": [],
   "source": []
  }
 ],
 "metadata": {
  "kernelspec": {
   "display_name": "",
   "name": ""
  },
  "language_info": {
   "name": ""
  }
 },
 "nbformat": 4,
 "nbformat_minor": 5
}
